{
 "cells": [
  {
   "cell_type": "code",
   "execution_count": 14,
   "metadata": {},
   "outputs": [],
   "source": [
    "import pandas as pd\n",
    "from datetime import timedelta\n",
    "import matplotlib.pyplot as plt\n",
    "import seaborn as sns"
   ]
  },
  {
   "cell_type": "code",
   "execution_count": 15,
   "metadata": {},
   "outputs": [],
   "source": [
    "df = pd.read_excel(\"D:/New folder (2)/export-pkk_ban_sai_kanun-1d.xlsx\")"
   ]
  },
  {
   "cell_type": "code",
   "execution_count": 12,
   "metadata": {},
   "outputs": [],
   "source": [
    "df['temperature'] = df['temperature'].fillna(df['temperature'].mean())\n",
    "df['humidity'] = df['humidity'].fillna(df['humidity'].mean())"
   ]
  },
  {
   "cell_type": "code",
   "execution_count": 16,
   "metadata": {},
   "outputs": [
    {
     "data": {
      "text/plain": [
       "Unnamed: 0     0\n",
       "timestamp      0\n",
       "timezone       0\n",
       "humidity       0\n",
       "pm_10          0\n",
       "pm_2_5         0\n",
       "pm_2_5_sp      0\n",
       "temperature    0\n",
       "dtype: int64"
      ]
     },
     "execution_count": 16,
     "metadata": {},
     "output_type": "execute_result"
    }
   ],
   "source": [
    "df.isnull().sum()"
   ]
  },
  {
   "cell_type": "code",
   "execution_count": 18,
   "metadata": {},
   "outputs": [
    {
     "data": {
      "text/plain": [
       "Unnamed: 0     325\n",
       "timestamp      325\n",
       "timezone       325\n",
       "humidity       325\n",
       "pm_10          325\n",
       "pm_2_5         325\n",
       "pm_2_5_sp      325\n",
       "temperature    325\n",
       "dtype: int64"
      ]
     },
     "execution_count": 18,
     "metadata": {},
     "output_type": "execute_result"
    }
   ],
   "source": [
    "df.count()"
   ]
  },
  {
   "cell_type": "code",
   "execution_count": 19,
   "metadata": {},
   "outputs": [
    {
     "data": {
      "text/plain": [
       "Index(['Unnamed: 0', 'timestamp', 'timezone', 'humidity', 'pm_10', 'pm_2_5',\n",
       "       'pm_2_5_sp', 'temperature'],\n",
       "      dtype='object')"
      ]
     },
     "execution_count": 19,
     "metadata": {},
     "output_type": "execute_result"
    }
   ],
   "source": [
    "df.columns"
   ]
  },
  {
   "cell_type": "code",
   "execution_count": 20,
   "metadata": {},
   "outputs": [],
   "source": [
    "df[\"timestamp\"] = pd.to_datetime(df[\"timestamp\"])\n",
    "df[\"month\"] = df[\"timestamp\"].dt.month\n",
    "df[\"dayofweek\"] = df[\"timestamp\"].dt.dayofweek\n",
    "df[\"day\"] = df[\"timestamp\"].dt.day"
   ]
  },
  {
   "cell_type": "code",
   "execution_count": 21,
   "metadata": {},
   "outputs": [
    {
     "name": "stdout",
     "output_type": "stream",
     "text": [
      "<class 'pandas.core.frame.DataFrame'>\n",
      "RangeIndex: 325 entries, 0 to 324\n",
      "Data columns (total 11 columns):\n",
      " #   Column       Non-Null Count  Dtype         \n",
      "---  ------       --------------  -----         \n",
      " 0   Unnamed: 0   325 non-null    int64         \n",
      " 1   timestamp    325 non-null    datetime64[ns]\n",
      " 2   timezone     325 non-null    object        \n",
      " 3   humidity     325 non-null    float64       \n",
      " 4   pm_10        325 non-null    float64       \n",
      " 5   pm_2_5       325 non-null    float64       \n",
      " 6   pm_2_5_sp    325 non-null    float64       \n",
      " 7   temperature  325 non-null    float64       \n",
      " 8   month        325 non-null    int32         \n",
      " 9   dayofweek    325 non-null    int32         \n",
      " 10  day          325 non-null    int32         \n",
      "dtypes: datetime64[ns](1), float64(5), int32(3), int64(1), object(1)\n",
      "memory usage: 24.2+ KB\n"
     ]
    }
   ],
   "source": [
    "df.info()"
   ]
  },
  {
   "cell_type": "code",
   "execution_count": 22,
   "metadata": {},
   "outputs": [
    {
     "data": {
      "text/html": [
       "<div>\n",
       "<style scoped>\n",
       "    .dataframe tbody tr th:only-of-type {\n",
       "        vertical-align: middle;\n",
       "    }\n",
       "\n",
       "    .dataframe tbody tr th {\n",
       "        vertical-align: top;\n",
       "    }\n",
       "\n",
       "    .dataframe thead th {\n",
       "        text-align: right;\n",
       "    }\n",
       "</style>\n",
       "<table border=\"1\" class=\"dataframe\">\n",
       "  <thead>\n",
       "    <tr style=\"text-align: right;\">\n",
       "      <th></th>\n",
       "      <th>timestamp</th>\n",
       "      <th>humidity</th>\n",
       "      <th>pm_2_5</th>\n",
       "      <th>temperature</th>\n",
       "      <th>month</th>\n",
       "      <th>dayofweek</th>\n",
       "      <th>day</th>\n",
       "    </tr>\n",
       "  </thead>\n",
       "  <tbody>\n",
       "    <tr>\n",
       "      <th>0</th>\n",
       "      <td>2022-08-13 07:00:00</td>\n",
       "      <td>59.598346</td>\n",
       "      <td>13.961977</td>\n",
       "      <td>34.136879</td>\n",
       "      <td>8</td>\n",
       "      <td>5</td>\n",
       "      <td>13</td>\n",
       "    </tr>\n",
       "    <tr>\n",
       "      <th>1</th>\n",
       "      <td>2022-08-14 07:00:00</td>\n",
       "      <td>61.957933</td>\n",
       "      <td>8.818620</td>\n",
       "      <td>33.635054</td>\n",
       "      <td>8</td>\n",
       "      <td>6</td>\n",
       "      <td>14</td>\n",
       "    </tr>\n",
       "    <tr>\n",
       "      <th>2</th>\n",
       "      <td>2022-08-15 07:00:00</td>\n",
       "      <td>62.518257</td>\n",
       "      <td>13.911925</td>\n",
       "      <td>33.712602</td>\n",
       "      <td>8</td>\n",
       "      <td>0</td>\n",
       "      <td>15</td>\n",
       "    </tr>\n",
       "    <tr>\n",
       "      <th>3</th>\n",
       "      <td>2022-08-16 07:00:00</td>\n",
       "      <td>61.883203</td>\n",
       "      <td>8.951439</td>\n",
       "      <td>33.928646</td>\n",
       "      <td>8</td>\n",
       "      <td>1</td>\n",
       "      <td>16</td>\n",
       "    </tr>\n",
       "    <tr>\n",
       "      <th>4</th>\n",
       "      <td>2022-08-17 07:00:00</td>\n",
       "      <td>63.333942</td>\n",
       "      <td>5.572363</td>\n",
       "      <td>32.480765</td>\n",
       "      <td>8</td>\n",
       "      <td>2</td>\n",
       "      <td>17</td>\n",
       "    </tr>\n",
       "    <tr>\n",
       "      <th>...</th>\n",
       "      <td>...</td>\n",
       "      <td>...</td>\n",
       "      <td>...</td>\n",
       "      <td>...</td>\n",
       "      <td>...</td>\n",
       "      <td>...</td>\n",
       "      <td>...</td>\n",
       "    </tr>\n",
       "    <tr>\n",
       "      <th>320</th>\n",
       "      <td>2023-08-30 07:00:00</td>\n",
       "      <td>61.178323</td>\n",
       "      <td>4.357621</td>\n",
       "      <td>33.897428</td>\n",
       "      <td>8</td>\n",
       "      <td>2</td>\n",
       "      <td>30</td>\n",
       "    </tr>\n",
       "    <tr>\n",
       "      <th>321</th>\n",
       "      <td>2023-08-31 07:00:00</td>\n",
       "      <td>64.548621</td>\n",
       "      <td>3.066176</td>\n",
       "      <td>33.418582</td>\n",
       "      <td>8</td>\n",
       "      <td>3</td>\n",
       "      <td>31</td>\n",
       "    </tr>\n",
       "    <tr>\n",
       "      <th>322</th>\n",
       "      <td>2023-09-08 07:00:00</td>\n",
       "      <td>67.717183</td>\n",
       "      <td>9.905742</td>\n",
       "      <td>34.180494</td>\n",
       "      <td>9</td>\n",
       "      <td>4</td>\n",
       "      <td>8</td>\n",
       "    </tr>\n",
       "    <tr>\n",
       "      <th>323</th>\n",
       "      <td>2023-09-09 07:00:00</td>\n",
       "      <td>66.029513</td>\n",
       "      <td>8.417391</td>\n",
       "      <td>35.866261</td>\n",
       "      <td>9</td>\n",
       "      <td>5</td>\n",
       "      <td>9</td>\n",
       "    </tr>\n",
       "    <tr>\n",
       "      <th>324</th>\n",
       "      <td>2023-09-11 07:00:00</td>\n",
       "      <td>78.298423</td>\n",
       "      <td>3.750000</td>\n",
       "      <td>26.779889</td>\n",
       "      <td>9</td>\n",
       "      <td>0</td>\n",
       "      <td>11</td>\n",
       "    </tr>\n",
       "  </tbody>\n",
       "</table>\n",
       "<p>325 rows × 7 columns</p>\n",
       "</div>"
      ],
      "text/plain": [
       "              timestamp   humidity     pm_2_5  temperature  month  dayofweek  \\\n",
       "0   2022-08-13 07:00:00  59.598346  13.961977    34.136879      8          5   \n",
       "1   2022-08-14 07:00:00  61.957933   8.818620    33.635054      8          6   \n",
       "2   2022-08-15 07:00:00  62.518257  13.911925    33.712602      8          0   \n",
       "3   2022-08-16 07:00:00  61.883203   8.951439    33.928646      8          1   \n",
       "4   2022-08-17 07:00:00  63.333942   5.572363    32.480765      8          2   \n",
       "..                  ...        ...        ...          ...    ...        ...   \n",
       "320 2023-08-30 07:00:00  61.178323   4.357621    33.897428      8          2   \n",
       "321 2023-08-31 07:00:00  64.548621   3.066176    33.418582      8          3   \n",
       "322 2023-09-08 07:00:00  67.717183   9.905742    34.180494      9          4   \n",
       "323 2023-09-09 07:00:00  66.029513   8.417391    35.866261      9          5   \n",
       "324 2023-09-11 07:00:00  78.298423   3.750000    26.779889      9          0   \n",
       "\n",
       "     day  \n",
       "0     13  \n",
       "1     14  \n",
       "2     15  \n",
       "3     16  \n",
       "4     17  \n",
       "..   ...  \n",
       "320   30  \n",
       "321   31  \n",
       "322    8  \n",
       "323    9  \n",
       "324   11  \n",
       "\n",
       "[325 rows x 7 columns]"
      ]
     },
     "execution_count": 22,
     "metadata": {},
     "output_type": "execute_result"
    }
   ],
   "source": [
    "columns_to_drop = [\"timezone\",\"Unnamed: 0\",\"pm_10\",\"pm_2_5_sp\",\"year\"]\n",
    "df = df.drop(columns=[col for col in columns_to_drop if col in df.columns])\n",
    "df"
   ]
  },
  {
   "cell_type": "code",
   "execution_count": 23,
   "metadata": {},
   "outputs": [
    {
     "data": {
      "image/png": "[encoded data removed]",
      "text/plain": [
       "<Figure size 1200x500 with 3 Axes>"
      ]
     },
     "metadata": {},
     "output_type": "display_data"
    }
   ],
   "source": [
    "plt.figure(figsize=(12, 5))\n",
    "\n",
    "plt.subplot(1, 3, 1)\n",
    "sns.boxplot(y=df[\"temperature\"])\n",
    "plt.title(\"Boxplot of Temperature\")\n",
    "\n",
    "plt.subplot(1, 3, 2)\n",
    "sns.boxplot(y=df[\"humidity\"])\n",
    "plt.title(\"Boxplot of Humidity\")\n",
    "\n",
    "plt.subplot(1, 3, 3)\n",
    "sns.boxplot(y=df[\"pm_2_5\"])\n",
    "plt.title(\"Boxplot of pm_2_5\")\n",
    "\n",
    "plt.show()"
   ]
  },
  {
   "cell_type": "code",
   "execution_count": 24,
   "metadata": {},
   "outputs": [
    {
     "name": "stdout",
     "output_type": "stream",
     "text": [
      "<class 'pandas.core.frame.DataFrame'>\n",
      "RangeIndex: 325 entries, 0 to 324\n",
      "Data columns (total 7 columns):\n",
      " #   Column       Non-Null Count  Dtype         \n",
      "---  ------       --------------  -----         \n",
      " 0   timestamp    325 non-null    datetime64[ns]\n",
      " 1   humidity     325 non-null    float64       \n",
      " 2   pm_2_5       325 non-null    float64       \n",
      " 3   temperature  325 non-null    float64       \n",
      " 4   month        325 non-null    int32         \n",
      " 5   dayofweek    325 non-null    int32         \n",
      " 6   day          325 non-null    int32         \n",
      "dtypes: datetime64[ns](1), float64(3), int32(3)\n",
      "memory usage: 14.1 KB\n"
     ]
    }
   ],
   "source": [
    "df.info()"
   ]
  },
  {
   "cell_type": "code",
   "execution_count": 25,
   "metadata": {},
   "outputs": [],
   "source": [
    "from scipy import stats\n",
    "import numpy as np\n",
    "df = df[(np.abs(stats.zscore(df['humidity'])) < 3)]  # ลบค่าผิดปกติออก\n",
    "df = df[(np.abs(stats.zscore(df['temperature'])) < 3)]  # ลบค่าผิดปกติออก\n",
    "df = df[(np.abs(stats.zscore(df['pm_2_5'])) < 3)]  # ลบค่าผิดปกติออก"
   ]
  },
  {
   "cell_type": "code",
   "execution_count": 26,
   "metadata": {},
   "outputs": [],
   "source": [
    "df['pm_2_5_lag1'] = df['pm_2_5'].shift(24)\n",
    "df['pm_2_5_lag2'] = df['pm_2_5'].shift()\n",
    "df['pm_2_5_lag3'] = df['pm_2_5'].shift(3)"
   ]
  },
  {
   "cell_type": "code",
   "execution_count": 27,
   "metadata": {},
   "outputs": [],
   "source": [
    "df['Balance'] =  df['humidity'] - df['temperature']"
   ]
  },
  {
   "cell_type": "code",
   "execution_count": 28,
   "metadata": {},
   "outputs": [],
   "source": [
    "df['PM2.5_MA3_prev_1'] = df['pm_2_5'].shift(1).rolling(window=2).mean()"
   ]
  },
  {
   "cell_type": "code",
   "execution_count": 29,
   "metadata": {},
   "outputs": [],
   "source": [
    "df['PM2.5_MA3_prev_2'] = df['pm_2_5'].shift(2).rolling(window=2).mean()"
   ]
  },
  {
   "cell_type": "code",
   "execution_count": 30,
   "metadata": {},
   "outputs": [],
   "source": [
    "df['PM2.5_MA3_prev_3'] = df['pm_2_5'].shift(168).rolling(window=168).mean()"
   ]
  },
  {
   "cell_type": "code",
   "execution_count": 31,
   "metadata": {},
   "outputs": [],
   "source": [
    "df['PM2.5_MAX24_prev'] = df['pm_2_5'].shift(168).rolling(window=168).max()"
   ]
  },
  {
   "cell_type": "code",
   "execution_count": 1119,
   "metadata": {},
   "outputs": [],
   "source": [
    "# df['pm_2_5_future_7d_avg_2'] = df['pm_2_5'].shift(-1).rolling(window=2, min_periods=1).mean()\n",
    "# df['pm_2_5_future_7d_max_2'] = df['pm_2_5'].shift(-1).rolling(window=2, min_periods=1).max()"
   ]
  },
  {
   "cell_type": "code",
   "execution_count": 1120,
   "metadata": {},
   "outputs": [],
   "source": [
    "# df['pm_2_5_future_7d_avg_3'] = df['pm_2_5'].shift(-1).rolling(window=3, min_periods=1).mean()\n",
    "# df['pm_2_5_future_7d_max_3'] = df['pm_2_5'].shift(-1).rolling(window=3, min_periods=1).max()"
   ]
  },
  {
   "cell_type": "code",
   "execution_count": 1121,
   "metadata": {},
   "outputs": [],
   "source": [
    "# df['pm_2_5_future_7d_avg_4'] = df['pm_2_5'].shift(-1).rolling(window=4, min_periods=1).mean()\n",
    "# df['pm_2_5_future_7d_max_4'] = df['pm_2_5'].shift(-1).rolling(window=4, min_periods=1).max()"
   ]
  },
  {
   "cell_type": "code",
   "execution_count": 1122,
   "metadata": {},
   "outputs": [],
   "source": [
    "# df['pm_2_5_future_7d_avg_5'] = df['pm_2_5'].shift(-1).rolling(window=5, min_periods=1).mean()\n",
    "# df['pm_2_5_future_7d_max_5'] = df['pm_2_5'].shift(-1).rolling(window=5, min_periods=1).max()"
   ]
  },
  {
   "cell_type": "code",
   "execution_count": 1123,
   "metadata": {},
   "outputs": [],
   "source": [
    "# df['pm_2_5_future_7d_avg_6'] = df['pm_2_5'].shift(-1).rolling(window=6, min_periods=1).mean()\n",
    "# df['pm_2_5_future_7d_max_6'] = df['pm_2_5'].shift(-1).rolling(window=6, min_periods=1).max()"
   ]
  },
  {
   "cell_type": "code",
   "execution_count": 32,
   "metadata": {},
   "outputs": [
    {
     "data": {
      "text/html": [
       "<div>\n",
       "<style scoped>\n",
       "    .dataframe tbody tr th:only-of-type {\n",
       "        vertical-align: middle;\n",
       "    }\n",
       "\n",
       "    .dataframe tbody tr th {\n",
       "        vertical-align: top;\n",
       "    }\n",
       "\n",
       "    .dataframe thead th {\n",
       "        text-align: right;\n",
       "    }\n",
       "</style>\n",
       "<table border=\"1\" class=\"dataframe\">\n",
       "  <thead>\n",
       "    <tr style=\"text-align: right;\">\n",
       "      <th></th>\n",
       "      <th>timestamp</th>\n",
       "      <th>humidity</th>\n",
       "      <th>pm_2_5</th>\n",
       "      <th>temperature</th>\n",
       "      <th>month</th>\n",
       "      <th>dayofweek</th>\n",
       "      <th>day</th>\n",
       "      <th>pm_2_5_lag1</th>\n",
       "      <th>pm_2_5_lag2</th>\n",
       "      <th>pm_2_5_lag3</th>\n",
       "      <th>Balance</th>\n",
       "      <th>PM2.5_MA3_prev_1</th>\n",
       "      <th>PM2.5_MA3_prev_2</th>\n",
       "      <th>PM2.5_MA3_prev_3</th>\n",
       "      <th>PM2.5_MAX24_prev</th>\n",
       "    </tr>\n",
       "  </thead>\n",
       "  <tbody>\n",
       "    <tr>\n",
       "      <th>319</th>\n",
       "      <td>2023-08-29 07:00:00</td>\n",
       "      <td>60.354777</td>\n",
       "      <td>7.247171</td>\n",
       "      <td>33.972864</td>\n",
       "      <td>8</td>\n",
       "      <td>1</td>\n",
       "      <td>29</td>\n",
       "      <td>12.004119</td>\n",
       "      <td>6.843563</td>\n",
       "      <td>6.005819</td>\n",
       "      <td>26.381914</td>\n",
       "      <td>10.763944</td>\n",
       "      <td>10.345072</td>\n",
       "      <td>NaN</td>\n",
       "      <td>NaN</td>\n",
       "    </tr>\n",
       "    <tr>\n",
       "      <th>320</th>\n",
       "      <td>2023-08-30 07:00:00</td>\n",
       "      <td>61.178323</td>\n",
       "      <td>4.357621</td>\n",
       "      <td>33.897428</td>\n",
       "      <td>8</td>\n",
       "      <td>2</td>\n",
       "      <td>30</td>\n",
       "      <td>14.830508</td>\n",
       "      <td>7.247171</td>\n",
       "      <td>14.684325</td>\n",
       "      <td>27.280895</td>\n",
       "      <td>7.045367</td>\n",
       "      <td>10.763944</td>\n",
       "      <td>NaN</td>\n",
       "      <td>NaN</td>\n",
       "    </tr>\n",
       "    <tr>\n",
       "      <th>321</th>\n",
       "      <td>2023-08-31 07:00:00</td>\n",
       "      <td>64.548621</td>\n",
       "      <td>3.066176</td>\n",
       "      <td>33.418582</td>\n",
       "      <td>8</td>\n",
       "      <td>3</td>\n",
       "      <td>31</td>\n",
       "      <td>6.828228</td>\n",
       "      <td>4.357621</td>\n",
       "      <td>6.843563</td>\n",
       "      <td>31.130040</td>\n",
       "      <td>5.802396</td>\n",
       "      <td>7.045367</td>\n",
       "      <td>NaN</td>\n",
       "      <td>NaN</td>\n",
       "    </tr>\n",
       "    <tr>\n",
       "      <th>322</th>\n",
       "      <td>2023-09-08 07:00:00</td>\n",
       "      <td>67.717183</td>\n",
       "      <td>9.905742</td>\n",
       "      <td>34.180494</td>\n",
       "      <td>9</td>\n",
       "      <td>4</td>\n",
       "      <td>8</td>\n",
       "      <td>16.671942</td>\n",
       "      <td>3.066176</td>\n",
       "      <td>7.247171</td>\n",
       "      <td>33.536689</td>\n",
       "      <td>3.711899</td>\n",
       "      <td>5.802396</td>\n",
       "      <td>NaN</td>\n",
       "      <td>NaN</td>\n",
       "    </tr>\n",
       "    <tr>\n",
       "      <th>323</th>\n",
       "      <td>2023-09-09 07:00:00</td>\n",
       "      <td>66.029513</td>\n",
       "      <td>8.417391</td>\n",
       "      <td>35.866261</td>\n",
       "      <td>9</td>\n",
       "      <td>5</td>\n",
       "      <td>9</td>\n",
       "      <td>11.698154</td>\n",
       "      <td>9.905742</td>\n",
       "      <td>4.357621</td>\n",
       "      <td>30.163253</td>\n",
       "      <td>6.485959</td>\n",
       "      <td>3.711899</td>\n",
       "      <td>NaN</td>\n",
       "      <td>NaN</td>\n",
       "    </tr>\n",
       "  </tbody>\n",
       "</table>\n",
       "</div>"
      ],
      "text/plain": [
       "              timestamp   humidity    pm_2_5  temperature  month  dayofweek  \\\n",
       "319 2023-08-29 07:00:00  60.354777  7.247171    33.972864      8          1   \n",
       "320 2023-08-30 07:00:00  61.178323  4.357621    33.897428      8          2   \n",
       "321 2023-08-31 07:00:00  64.548621  3.066176    33.418582      8          3   \n",
       "322 2023-09-08 07:00:00  67.717183  9.905742    34.180494      9          4   \n",
       "323 2023-09-09 07:00:00  66.029513  8.417391    35.866261      9          5   \n",
       "\n",
       "     day  pm_2_5_lag1  pm_2_5_lag2  pm_2_5_lag3    Balance  PM2.5_MA3_prev_1  \\\n",
       "319   29    12.004119     6.843563     6.005819  26.381914         10.763944   \n",
       "320   30    14.830508     7.247171    14.684325  27.280895          7.045367   \n",
       "321   31     6.828228     4.357621     6.843563  31.130040          5.802396   \n",
       "322    8    16.671942     3.066176     7.247171  33.536689          3.711899   \n",
       "323    9    11.698154     9.905742     4.357621  30.163253          6.485959   \n",
       "\n",
       "     PM2.5_MA3_prev_2  PM2.5_MA3_prev_3  PM2.5_MAX24_prev  \n",
       "319         10.345072               NaN               NaN  \n",
       "320         10.763944               NaN               NaN  \n",
       "321          7.045367               NaN               NaN  \n",
       "322          5.802396               NaN               NaN  \n",
       "323          3.711899               NaN               NaN  "
      ]
     },
     "execution_count": 32,
     "metadata": {},
     "output_type": "execute_result"
    }
   ],
   "source": [
    "df.tail()"
   ]
  },
  {
   "cell_type": "code",
   "execution_count": 33,
   "metadata": {},
   "outputs": [],
   "source": [
    "df = df.dropna()"
   ]
  },
  {
   "cell_type": "code",
   "execution_count": 34,
   "metadata": {},
   "outputs": [
    {
     "data": {
      "text/plain": [
       "timestamp           datetime64[ns]\n",
       "humidity                   float64\n",
       "pm_2_5                     float64\n",
       "temperature                float64\n",
       "month                        int32\n",
       "dayofweek                    int32\n",
       "day                          int32\n",
       "pm_2_5_lag1                float64\n",
       "pm_2_5_lag2                float64\n",
       "pm_2_5_lag3                float64\n",
       "Balance                    float64\n",
       "PM2.5_MA3_prev_1           float64\n",
       "PM2.5_MA3_prev_2           float64\n",
       "PM2.5_MA3_prev_3           float64\n",
       "PM2.5_MAX24_prev           float64\n",
       "dtype: object"
      ]
     },
     "execution_count": 34,
     "metadata": {},
     "output_type": "execute_result"
    }
   ],
   "source": [
    "df.dtypes"
   ]
  },
  {
   "cell_type": "code",
   "execution_count": 35,
   "metadata": {},
   "outputs": [
    {
     "data": {
      "image/png": "[encoded data removed]",
      "text/plain": [
       "<Figure size 1200x500 with 3 Axes>"
      ]
     },
     "metadata": {},
     "output_type": "display_data"
    }
   ],
   "source": [
    "plt.figure(figsize=(12, 5))\n",
    "\n",
    "plt.subplot(1, 3, 1)\n",
    "sns.boxplot(y=df[\"temperature\"])\n",
    "plt.title(\"Boxplot of Temperature\")\n",
    "\n",
    "plt.subplot(1, 3, 2)\n",
    "sns.boxplot(y=df[\"humidity\"])\n",
    "plt.title(\"Boxplot of Humidity\")\n",
    "\n",
    "plt.subplot(1, 3, 3)\n",
    "sns.boxplot(y=df[\"pm_2_5\"])\n",
    "plt.title(\"Boxplot of pm_2_5\")\n",
    "\n",
    "plt.show()"
   ]
  },
  {
   "cell_type": "code",
   "execution_count": 36,
   "metadata": {},
   "outputs": [
    {
     "name": "stdout",
     "output_type": "stream",
     "text": [
      "<class 'pandas.core.frame.DataFrame'>\n",
      "Index: 0 entries\n",
      "Data columns (total 15 columns):\n",
      " #   Column            Non-Null Count  Dtype         \n",
      "---  ------            --------------  -----         \n",
      " 0   timestamp         0 non-null      datetime64[ns]\n",
      " 1   humidity          0 non-null      float64       \n",
      " 2   pm_2_5            0 non-null      float64       \n",
      " 3   temperature       0 non-null      float64       \n",
      " 4   month             0 non-null      int32         \n",
      " 5   dayofweek         0 non-null      int32         \n",
      " 6   day               0 non-null      int32         \n",
      " 7   pm_2_5_lag1       0 non-null      float64       \n",
      " 8   pm_2_5_lag2       0 non-null      float64       \n",
      " 9   pm_2_5_lag3       0 non-null      float64       \n",
      " 10  Balance           0 non-null      float64       \n",
      " 11  PM2.5_MA3_prev_1  0 non-null      float64       \n",
      " 12  PM2.5_MA3_prev_2  0 non-null      float64       \n",
      " 13  PM2.5_MA3_prev_3  0 non-null      float64       \n",
      " 14  PM2.5_MAX24_prev  0 non-null      float64       \n",
      "dtypes: datetime64[ns](1), float64(11), int32(3)\n",
      "memory usage: 0.0 bytes\n"
     ]
    }
   ],
   "source": [
    "df.info()"
   ]
  },
  {
   "cell_type": "code",
   "execution_count": 37,
   "metadata": {},
   "outputs": [
    {
     "name": "stderr",
     "output_type": "stream",
     "text": [
      "d:\\Term Pr\\.venv\\Lib\\site-packages\\seaborn\\matrix.py:202: RuntimeWarning: All-NaN slice encountered\n",
      "  vmin = np.nanmin(calc_data)\n",
      "d:\\Term Pr\\.venv\\Lib\\site-packages\\seaborn\\matrix.py:207: RuntimeWarning: All-NaN slice encountered\n",
      "  vmax = np.nanmax(calc_data)\n"
     ]
    },
    {
     "data": {
      "image/png": "[encoded data removed]",
      "text/plain": [
       "<Figure size 640x480 with 2 Axes>"
      ]
     },
     "metadata": {},
     "output_type": "display_data"
    }
   ],
   "source": [
    "corr = df.corr()\n",
    "sns.heatmap(corr, annot=True, cmap=\"coolwarm\")\n",
    "plt.title(\"Correlation Matrix\")\n",
    "plt.show()"
   ]
  },
  {
   "cell_type": "code",
   "execution_count": 38,
   "metadata": {},
   "outputs": [],
   "source": [
    "df_pedict = df\n",
    "df = df.drop(columns=[\"timestamp\"])"
   ]
  },
  {
   "cell_type": "code",
   "execution_count": null,
   "metadata": {},
   "outputs": [],
   "source": [
    "# df.to_csv(\"r202.d.csv\")"
   ]
  },
  {
   "cell_type": "code",
   "execution_count": null,
   "metadata": {},
   "outputs": [],
   "source": [
    "# df_pedict.to_csv(\"pedict_r202.d.csv\")"
   ]
  },
  {
   "cell_type": "code",
   "execution_count": 1,
   "metadata": {},
   "outputs": [
    {
     "ename": "NameError",
     "evalue": "name 'df' is not defined",
     "output_type": "error",
     "traceback": [
      "\u001b[1;31m---------------------------------------------------------------------------\u001b[0m",
      "\u001b[1;31mNameError\u001b[0m                                 Traceback (most recent call last)",
      "Cell \u001b[1;32mIn[1], line 1\u001b[0m\n\u001b[1;32m----> 1\u001b[0m \u001b[43mdf\u001b[49m\n",
      "\u001b[1;31mNameError\u001b[0m: name 'df' is not defined"
     ]
    }
   ],
   "source": [
    "df"
   ]
  },
  {
   "cell_type": "code",
   "execution_count": 50,
   "metadata": {},
   "outputs": [
    {
     "name": "stdout",
     "output_type": "stream",
     "text": [
      "จำนวนคอลัมน์ใน DataFrame หลังจากลบ 'Unnamed: 0': 13\n",
      "                Timestamp   Humidity     PM2.5  Temperature  Month  DayOfWeek  \\\n",
      "6816  2023-09-08 11:00:00  64.844885  4.740741    37.595520      9          4   \n",
      "6817  2023-09-08 12:00:00  62.175217  3.846154    39.293613      9          4   \n",
      "6818  2023-09-08 13:00:00  60.751743  4.905660    39.895653      9          4   \n",
      "6819  2023-09-08 14:00:00  60.075015  5.307692    40.084554      9          4   \n",
      "6820  2023-09-10 15:00:00  78.298423  3.750000    26.779889      9          6   \n",
      "\n",
      "      WeekOfYear  Day  Hour  PM2.5_Lag_12Day  PM2.5_MA3_prev_12day  \\\n",
      "6816         251    8    11         4.078431              6.771326   \n",
      "6817         251    8    12         4.109091              6.760212   \n",
      "6818         251    8    13         3.636364              6.743156   \n",
      "6819         251    8    14         2.824561              6.732961   \n",
      "6820         253   10    15         4.207547              6.727512   \n",
      "\n",
      "      PM2.5_MAX24_prev_12day  PM2.5_MIN24_prev_12day  \n",
      "6816                   40.75                0.224138  \n",
      "6817                   40.75                0.224138  \n",
      "6818                   40.75                0.224138  \n",
      "6819                   40.75                0.224138  \n",
      "6820                   40.75                0.224138  \n",
      "<class 'pandas.core.frame.DataFrame'>\n",
      "RangeIndex: 6821 entries, 0 to 6820\n",
      "Data columns (total 13 columns):\n",
      " #   Column                  Non-Null Count  Dtype  \n",
      "---  ------                  --------------  -----  \n",
      " 0   Timestamp               6821 non-null   object \n",
      " 1   Humidity                6821 non-null   float64\n",
      " 2   PM2.5                   6821 non-null   float64\n",
      " 3   Temperature             6821 non-null   float64\n",
      " 4   Month                   6821 non-null   int64  \n",
      " 5   DayOfWeek               6821 non-null   int64  \n",
      " 6   WeekOfYear              6821 non-null   int64  \n",
      " 7   Day                     6821 non-null   int64  \n",
      " 8   Hour                    6821 non-null   int64  \n",
      " 9   PM2.5_Lag_12Day         6821 non-null   float64\n",
      " 10  PM2.5_MA3_prev_12day    6821 non-null   float64\n",
      " 11  PM2.5_MAX24_prev_12day  6821 non-null   float64\n",
      " 12  PM2.5_MIN24_prev_12day  6821 non-null   float64\n",
      "dtypes: float64(7), int64(5), object(1)\n",
      "memory usage: 692.9+ KB\n",
      "None\n"
     ]
    }
   ],
   "source": [
    "import pandas as pd\n",
    "\n",
    "# อ่านไฟล์ CSV\n",
    "df = pd.read_csv(\"D:/Term Pr/website_pm25/bansai.predict.h.csv\")\n",
    "\n",
    "# ลบคอลัมน์ที่ไม่จำเป็น (เช่น \"Unnamed: 0\")\n",
    "df = df.drop(columns=[\"Unnamed: 0\"])\n",
    "\n",
    "# ตรวจสอบจำนวนคอลัมน์ใน DataFrame หลังจากลบ\n",
    "print(\"จำนวนคอลัมน์ใน DataFrame หลังจากลบ 'Unnamed: 0':\", len(df.columns))\n",
    "\n",
    "# เปลี่ยนชื่อคอลัมน์ให้เข้าใจง่าย\n",
    "df.columns = [\n",
    "    \"Timestamp\",\n",
    "    \"Humidity\",\n",
    "    \"PM2.5\",\n",
    "    \"Temperature\",\n",
    "    \"Month\",\n",
    "    \"DayOfWeek\",\n",
    "    \"WeekOfYear\",\n",
    "    \"Day\",\n",
    "    \"Hour\",\n",
    "    \"PM2.5_Lag_12Day\",\n",
    "    \"PM2.5_MA3_prev_12day\",\n",
    "    \"PM2.5_MAX24_prev_12day\",\n",
    "    \"PM2.5_MIN24_prev_12day\",\n",
    "]\n",
    "\n",
    "# แสดงข้อมูลบางส่วนของไฟล์\n",
    "print(df.tail())  # แสดง 5 แถวแรก\n",
    "print(df.info())  # แสดงข้อมูลเกี่ยวกับคอลัมน์ใน DataFrame"
   ]
  },
  {
   "cell_type": "code",
   "execution_count": 51,
   "metadata": {},
   "outputs": [
    {
     "name": "stdout",
     "output_type": "stream",
     "text": [
      "วันที่พรีดิกวันสุดท้าย: 2023-09-10\n"
     ]
    }
   ],
   "source": [
    "# แปลงคอลัมน์ Timestamp เป็น datetime\n",
    "df[\"Timestamp\"] = pd.to_datetime(df[\"Timestamp\"])\n",
    "\n",
    "# หาวันที่ล่าสุดในข้อมูล\n",
    "last_date = df[\"Timestamp\"].max().date()\n",
    "\n",
    "# แสดงผล\n",
    "print(\"วันที่พรีดิกวันสุดท้าย:\", last_date)"
   ]
  },
  {
   "cell_type": "code",
   "execution_count": 52,
   "metadata": {},
   "outputs": [
    {
     "name": "stdout",
     "output_type": "stream",
     "text": [
      "วันที่พรีดิกล่วงหน้า 1 สัปดาห์: 2023-09-17\n"
     ]
    }
   ],
   "source": [
    "from datetime import timedelta\n",
    "\n",
    "# แปลงคอลัมน์ Timestamp เป็น datetime\n",
    "df[\"Timestamp\"] = pd.to_datetime(df[\"Timestamp\"])\n",
    "\n",
    "# หาวันที่ล่าสุดในข้อมูล\n",
    "last_date = df[\"Timestamp\"].max().date()\n",
    "\n",
    "# คำนวณวันที่พรีดิกล่วงหน้า 1 สัปดาห์\n",
    "predicted_date = last_date + timedelta(days=7)\n",
    "\n",
    "# แสดงผล\n",
    "print(\"วันที่พรีดิกล่วงหน้า 1 สัปดาห์:\", predicted_date)"
   ]
  },
  {
   "cell_type": "code",
   "execution_count": 53,
   "metadata": {},
   "outputs": [
    {
     "ename": "NameError",
     "evalue": "name 'future_dates' is not defined",
     "output_type": "error",
     "traceback": [
      "\u001b[1;31m---------------------------------------------------------------------------\u001b[0m",
      "\u001b[1;31mNameError\u001b[0m                                 Traceback (most recent call last)",
      "Cell \u001b[1;32mIn[53], line 1\u001b[0m\n\u001b[1;32m----> 1\u001b[0m \u001b[38;5;28mprint\u001b[39m(\u001b[43mfuture_dates\u001b[49m\u001b[38;5;241m.\u001b[39mhead())\n\u001b[0;32m      2\u001b[0m \u001b[38;5;28mprint\u001b[39m(future_dates\u001b[38;5;241m.\u001b[39minfo())\n",
      "\u001b[1;31mNameError\u001b[0m: name 'future_dates' is not defined"
     ]
    }
   ],
   "source": [
    "print(future_dates.head())\n",
    "print(future_dates.info())"
   ]
  },
  {
   "cell_type": "code",
   "execution_count": 54,
   "metadata": {},
   "outputs": [
    {
     "name": "stdout",
     "output_type": "stream",
     "text": [
      "วันที่ทำนายล่าสุด: NaT\n"
     ]
    }
   ],
   "source": [
    "# หาวันที่ล่าสุดที่ใช้ทำนาย\n",
    "latest_prediction_date = df_pedict[\"timestamp\"].max()\n",
    "print(\"วันที่ทำนายล่าสุด:\", latest_prediction_date)"
   ]
  },
  {
   "cell_type": "code",
   "execution_count": null,
   "metadata": {},
   "outputs": [
    {
     "name": "stdout",
     "output_type": "stream",
     "text": [
      "   Unnamed: 0            timestamp   humidity    pm_2_5  temperature  month  \\\n",
      "0         671  2022-09-09 12:00:00  64.212512  4.807692    37.180681      9   \n",
      "1         672  2022-09-09 13:00:00  61.752717  4.565217    38.973913      9   \n",
      "2         673  2022-09-09 14:00:00  60.919528  4.666667    38.566228      9   \n",
      "3         674  2022-09-09 15:00:00  63.643168  4.027027    33.532903      9   \n",
      "4         675  2022-09-09 16:00:00  65.447856  6.581395    32.058214      9   \n",
      "\n",
      "   dayofweek  weekofyear  day  hour  pm_2_5_lag_12day  PM2.5_MA3_prev_12day  \\\n",
      "0          4         252    9    12          2.830508              6.922415   \n",
      "1          4         252    9    13          2.983051              6.904012   \n",
      "2          4         252    9    14          1.135593              6.876808   \n",
      "3          4         252    9    15          1.240000              6.841754   \n",
      "4          4         252    9    16          1.120000              6.809774   \n",
      "\n",
      "   PM2.5_MAX24_prev_12day  PM2.5_MIN24_prev_12day  \n",
      "0                34.87931                    0.78  \n",
      "1                34.87931                    0.78  \n",
      "2                34.87931                    0.78  \n",
      "3                34.87931                    0.78  \n",
      "4                34.87931                    0.78  \n",
      "Mean Temperature: 32.750086008329966\n",
      "Max Temperature: 42.54821923076921\n",
      "Min Temperature: 26.01860344827587\n",
      "Mean Humidity: 66.01123957554452\n",
      "Max Humidity: 78.41592222222222\n",
      "Min Humidity: 50.10375892857143\n"
     ]
    }
   ],
   "source": [
    "import pandas as pd\n",
    "\n",
    "# โหลดข้อมูลจากไฟล์ CSV\n",
    "weather_data = pd.read_csv(\"D:/Term Pr/website_pm25/bansai.predict.h.csv\")\n",
    "\n",
    "# ตรวจสอบข้อมูล\n",
    "print(weather_data.head())  # แสดง 5 แถวแรกของข้อมูล\n",
    "\n",
    "# คำนวณค่าเฉลี่ย, ค่ามากที่สุด, และค่าน้อยที่สุด\n",
    "mean_temperature = weather_data[\"temperature\"].mean()\n",
    "max_temperature = weather_data[\"temperature\"].max()\n",
    "min_temperature = weather_data[\"temperature\"].min()\n",
    "\n",
    "mean_humidity = weather_data[\"humidity\"].mean()\n",
    "max_humidity = weather_data[\"humidity\"].max()\n",
    "min_humidity = weather_data[\"humidity\"].min()\n",
    "\n",
    "# แสดงผลลัพธ์\n",
    "print(f\"Mean Temperature: {mean_temperature}\")\n",
    "# print(f\"Max Temperature: {max_temperature}\")\n",
    "# print(f\"Min Temperature: {min_temperature}\")\n",
    "\n",
    "print(f\"Mean Humidity: {mean_humidity}\")\n",
    "# print(f\"Max Humidity: {max_humidity}\")\n",
    "# print(f\"Min Humidity: {min_humidity}\")"
   ]
  },
  {
   "cell_type": "code",
   "execution_count": 58,
   "metadata": {},
   "outputs": [
    {
     "name": "stdout",
     "output_type": "stream",
     "text": [
      "Index(['Unnamed: 0', 'timestamp', 'humidity', 'pm_2_5', 'temperature', 'month',\n",
      "       'dayofweek', 'weekofyear', 'day', 'hour', 'pm_2_5_lag_12day',\n",
      "       'PM2.5_MA3_prev_12day', 'PM2.5_MAX24_prev_12day',\n",
      "       'PM2.5_MIN24_prev_12day'],\n",
      "      dtype='object')\n",
      "   Unnamed: 0            timestamp   humidity    pm_2_5  temperature  month  \\\n",
      "0         671  2022-09-09 12:00:00  64.212512  4.807692    37.180681      9   \n",
      "1         672  2022-09-09 13:00:00  61.752717  4.565217    38.973913      9   \n",
      "2         673  2022-09-09 14:00:00  60.919528  4.666667    38.566228      9   \n",
      "3         674  2022-09-09 15:00:00  63.643168  4.027027    33.532903      9   \n",
      "4         675  2022-09-09 16:00:00  65.447856  6.581395    32.058214      9   \n",
      "\n",
      "   dayofweek  weekofyear  day  hour  pm_2_5_lag_12day  PM2.5_MA3_prev_12day  \\\n",
      "0          4         252    9    12          2.830508              6.922415   \n",
      "1          4         252    9    13          2.983051              6.904012   \n",
      "2          4         252    9    14          1.135593              6.876808   \n",
      "3          4         252    9    15          1.240000              6.841754   \n",
      "4          4         252    9    16          1.120000              6.809774   \n",
      "\n",
      "   PM2.5_MAX24_prev_12day  PM2.5_MIN24_prev_12day  \n",
      "0                34.87931                    0.78  \n",
      "1                34.87931                    0.78  \n",
      "2                34.87931                    0.78  \n",
      "3                34.87931                    0.78  \n",
      "4                34.87931                    0.78  \n",
      "คอลัมน์ 'PM2.5' ไม่มีอยู่ใน DataFrame\n",
      "    pm_2_5_lag_12day  PM2.5_MA3_prev_12day  PM2.5_MAX24_prev_12day  \\\n",
      "0           2.830508              6.922415                34.87931   \n",
      "1           2.983051              6.904012                34.87931   \n",
      "2           1.135593              6.876808                34.87931   \n",
      "3           1.240000              6.841754                34.87931   \n",
      "4           1.120000              6.809774                34.87931   \n",
      "5           1.827586              6.774121                34.87931   \n",
      "6           2.692308              6.732308                34.87931   \n",
      "7          17.066667              6.724694                34.87931   \n",
      "8          22.796610              6.702561                34.87931   \n",
      "9          13.916667              6.663212                34.87931   \n",
      "10          4.660377              6.612846                34.87931   \n",
      "11          9.766667              6.615673                34.87931   \n",
      "12          9.300000              6.621903                34.87931   \n",
      "13         10.000000              6.629790                34.87931   \n",
      "14         13.208333              6.644264                34.87931   \n",
      "\n",
      "    PM2.5_MIN24_prev_12day  \n",
      "0                     0.78  \n",
      "1                     0.78  \n",
      "2                     0.78  \n",
      "3                     0.78  \n",
      "4                     0.78  \n",
      "5                     0.78  \n",
      "6                     0.78  \n",
      "7                     0.78  \n",
      "8                     0.78  \n",
      "9                     0.78  \n",
      "10                    0.78  \n",
      "11                    0.78  \n",
      "12                    0.78  \n",
      "13                    0.78  \n",
      "14                    0.78  \n"
     ]
    }
   ],
   "source": [
    "import pandas as pd\n",
    "\n",
    "# โหลดข้อมูลจากไฟล์ CSV\n",
    "data = pd.read_csv(\"D:/Term Pr/website_pm25/bansai.predict.h.csv\")\n",
    "\n",
    "# ตรวจสอบชื่อคอลัมน์\n",
    "print(data.columns)  # แสดงชื่อคอลัมน์ทั้งหมด\n",
    "\n",
    "# ตรวจสอบข้อมูล\n",
    "print(data.head())  # แสดง 5 แถวแรกของข้อมูล\n",
    "\n",
    "# คำนวณฟีเจอร์\n",
    "# ตรวจสอบว่าชื่อคอลัมน์ 'PM2.5' มีอยู่จริงหรือไม่\n",
    "if \"PM2.5\" in data.columns:\n",
    "    data[\"pm_2_5_lag_12day\"] = data[\"PM2.5\"].shift(12)  # ค่าล่าช้า 12 วัน\n",
    "    data[\"PM2.5_MA3_prev_12day\"] = (\n",
    "        data[\"PM2.5\"].rolling(window=3).mean().shift(12)\n",
    "    )  # ค่าเฉลี่ยเคลื่อนที่ 3 วัน\n",
    "    data[\"PM2.5_MAX24_prev_12day\"] = (\n",
    "        data[\"PM2.5\"].rolling(window=24).max().shift(12)\n",
    "    )  # ค่าสูงสุดใน 24 ชั่วโมง\n",
    "    data[\"PM2.5_MIN24_prev_12day\"] = (\n",
    "        data[\"PM2.5\"].rolling(window=24).min().shift(12)\n",
    "    )  # ค่าต่ำสุดใน 24 ชั่วโมง\n",
    "else:\n",
    "    print(\"คอลัมน์ 'PM2.5' ไม่มีอยู่ใน DataFrame\")\n",
    "\n",
    "# ตรวจสอบฟีเจอร์ที่คำนวณ\n",
    "print(\n",
    "    data[\n",
    "        [\n",
    "            \"pm_2_5_lag_12day\",\n",
    "            \"PM2.5_MA3_prev_12day\",\n",
    "            \"PM2.5_MAX24_prev_12day\",\n",
    "            \"PM2.5_MIN24_prev_12day\",\n",
    "        ]\n",
    "    ].head(15)\n",
    ")"
   ]
  }
 ],
 "metadata": {
  "kernelspec": {
   "display_name": ".venv",
   "language": "python",
   "name": "python3"
  },
  "language_info": {
   "codemirror_mode": {
    "name": "ipython",
    "version": 3
   },
   "file_extension": ".py",
   "mimetype": "text/x-python",
   "name": "python",
   "nbconvert_exporter": "python",
   "pygments_lexer": "ipython3",
   "version": "3.11.9"
  }
 },
 "nbformat": 4,
 "nbformat_minor": 2
}
